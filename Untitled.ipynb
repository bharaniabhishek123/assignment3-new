{
 "cells": [
  {
   "cell_type": "code",
   "execution_count": 273,
   "metadata": {},
   "outputs": [],
   "source": [
    "def make_windowed_data(data, start, end, window_size = 1):\n",
    "    \"\"\"Uses the input sequences in @data to construct new windowed data points.\n",
    "\n",
    "    TODO: In the code below, construct a window from each word in the\n",
    "    input sentence by concatenating the words @window_size to the left\n",
    "    and @window_size to the right to the word. Finally, add this new\n",
    "    window data point and its label. to windowed_data.\n",
    "\n",
    "    Args:\n",
    "        data: is a list of (sentence, labels) tuples. @sentence is a list\n",
    "            containing the words in the sentence and @label is a list of\n",
    "            output labels. Each word is itself a list of\n",
    "            @n_features features. For example, the sentence \"Chris\n",
    "            Manning is amazing\" and labels \"PER PER O O\" would become\n",
    "            ([[1,9], [2,9], [3,8], [4,8]], [1, 1, 4, 4]). Here \"Chris\"\n",
    "            the word has been featurized as \"[1, 9]\", and \"[1, 1, 4, 4]\"\n",
    "            is the list of labels.\n",
    "        start: the featurized `start' token to be used for windows at the very\n",
    "            beginning of the sentence.\n",
    "        end: the featurized `end' token to be used for windows at the very\n",
    "            end of the sentence.\n",
    "        window_size: the length of the window to construct.\n",
    "    Returns:\n",
    "        a new list of data points, corresponding to each window in the\n",
    "        sentence. Each data point consists of a list of\n",
    "        @n_window_features features (corresponding to words from the\n",
    "        window) to be used in the sentence and its NER label.\n",
    "        If start=[5,8] and end=[6,8], the above example should return\n",
    "        the list\n",
    "        [([5, 8, 1, 9, 2, 9], 1),\n",
    "         ([1, 9, 2, 9, 3, 8], 1),\n",
    "         ...\n",
    "         ]\n",
    "    \"\"\"\n",
    "\n",
    "    windowed_data = []\n",
    "    \n",
    "    for sentence, labels in data:    \n",
    "\t\t### YOUR CODE HERE (5-20 lines)\n",
    "        flat_list = []\n",
    "        flat_list = start * window_size + flat_list\n",
    "        D = 2*(2*window_size+1)\n",
    "\n",
    "        for word in sentence:\n",
    "            flat_list = flat_list + word             \n",
    "        flat_list = flat_list + end * window_size\n",
    "        \n",
    "        for x in range(0,D,2*window_size):\n",
    "            windowed_data.append((flat_list[x:x+D],sentence_labels[0].pop(0)))\n",
    "  \n",
    "#         print(windowed_data)\n",
    "        \n",
    "\t\t### END YOUR CODE\n",
    "    return windowed_data\n"
   ]
  },
  {
   "cell_type": "code",
   "execution_count": 275,
   "metadata": {},
   "outputs": [
    {
     "name": "stdout",
     "output_type": "stream",
     "text": [
      "[5, 0, 1, 1, 2, 0, 3, 3, 6, 0]\n"
     ]
    }
   ],
   "source": [
    "start = [5,0]\n",
    "end = [6,0]\n",
    "sentences = [[[1,1], [2,0], [3,3]]]\n",
    "sentence_labels = [[1, 2, 3]]\n",
    "\n",
    "window=1\n",
    "flat_list= []\n",
    "windowed_data = []\n",
    "for sentence in sentences:\n",
    "    for word in sentence:\n",
    "        flat_list = flat_list+word\n",
    " \n",
    "    flat_list = start*window + flat_list\n",
    "    flat_list = flat_list + end*window\n",
    "\n",
    "print(flat_list)\n",
    "\n",
    "\n",
    "\n",
    "\n"
   ]
  },
  {
   "cell_type": "code",
   "execution_count": 276,
   "metadata": {},
   "outputs": [],
   "source": [
    "sentences = [[[1,1], [2,0], [3,3]]]\n",
    "sentence_labels = [[1, 2, 3]]\n",
    "data = zip(sentences, sentence_labels)\n",
    "w_data = make_windowed_data(data, start=[5,0], end=[6,0], window_size=1)\n",
    "\n",
    "assert len(w_data) == sum(len(sentence) for sentence in sentences)\n",
    "\n",
    "assert w_data == [\n",
    "        ([5,0] + [1,1] + [2,0], 1,),\n",
    "        ([1,1] + [2,0] + [3,3], 2,),\n",
    "        ([2,0] + [3,3] + [6,0], 3,),\n",
    "        ]"
   ]
  },
  {
   "cell_type": "code",
   "execution_count": null,
   "metadata": {
    "collapsed": true
   },
   "outputs": [],
   "source": []
  },
  {
   "cell_type": "code",
   "execution_count": null,
   "metadata": {
    "collapsed": true
   },
   "outputs": [],
   "source": []
  }
 ],
 "metadata": {
  "kernelspec": {
   "display_name": "Python 3",
   "language": "python",
   "name": "python3"
  },
  "language_info": {
   "codemirror_mode": {
    "name": "ipython",
    "version": 3
   },
   "file_extension": ".py",
   "mimetype": "text/x-python",
   "name": "python",
   "nbconvert_exporter": "python",
   "pygments_lexer": "ipython3",
   "version": "3.6.3"
  }
 },
 "nbformat": 4,
 "nbformat_minor": 2
}
